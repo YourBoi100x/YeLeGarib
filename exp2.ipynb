{
 "cells": [
  {
   "cell_type": "markdown",
   "id": "d2616ba6",
   "metadata": {},
   "source": [
    "**Find-S Algorithm**\n",
    "\n",
    "\n",
    "**Dataset Used**: https://archive.ics.uci.edu/ml/datasets/Shuttle+Landing+Control\n",
    "\n",
    "\n",
    "**Dataset Description**:\n",
    "\n",
    "Number of Instances: 15\n",
    "\n",
    "Number of Attributes: 7(including the class attribute)\n",
    "\n",
    "Attribute Information:\n",
    "1. CLASS: noauto, auto (advise using manual/automatic control)\n",
    "   \n",
    "2. Stability: stab,xstab\n",
    "   \n",
    "3. Error: XL,LX,MM,SS\n",
    "   \n",
    "4. SIGN: pp,nn\n",
    "   \n",
    "5. WIND: head,tail\n",
    "   \n",
    "6. MAGNITUDE: Low,Medium,strong,outofRange\n",
    "   \n",
    "7. Visibility: yes,no"
   ]
  },
  {
   "cell_type": "code",
   "execution_count": null,
   "id": "73878819-cc20-404f-8d93-59ce7156a0a6",
   "metadata": {},
   "outputs": [],
   "source": [
    "import pandas as pd\n",
    "import numpy as np\n",
    "\n",
    "column_names = ['Class', 'STABILITY', 'ERROR', 'SIGN', 'WIND', 'MAGNITUDE', 'VISIBILITY']\n",
    "\n",
    "data = pd.read_csv('shuttle-landing-control.data', header=None, names=column_names)\n",
    "\n",
    "target = np.array(data.iloc[:, 0])  \n",
    "concepts = np.array(data.iloc[:, 1:])  \n",
    "\n",
    "print(\"Input Shuttle Landing data:\\n\",data)\n",
    "\n",
    "positive_class = 2\n",
    "\n",
    "def train(concepts, target):\n",
    "    specific_h = None\n",
    "    \n",
    "    for i, val in enumerate(target):\n",
    "        if val == positive_class:\n",
    "            specific_h = concepts[i].copy()\n",
    "            break\n",
    "\n",
    "    print(\"\\nInitial hypothesis :\", specific_h)\n",
    "    \n",
    "    for i, val in enumerate(concepts):\n",
    "        if target[i] == positive_class:\n",
    "            for x in range(len(specific_h)):\n",
    "                if specific_h[x] == '*':\n",
    "                    specific_h[x] = val[x]\n",
    "                elif specific_h[x] != val[x]:\n",
    "                    specific_h[x] = '?'\n",
    "            print(\"Updated Hypothesis :\",specific_h)\n",
    "        \n",
    "    \n",
    "    return specific_h\n",
    "\n",
    "specific_h = train(concepts, target)\n",
    "\n",
    "print(\"\\nThe Final Hypothesis :\", specific_h)\n"
   ]
  }
 ],
 "metadata": {
  "kernelspec": {
   "display_name": "Python 3 (ipykernel)",
   "language": "python",
   "name": "python3"
  },
  "language_info": {
   "codemirror_mode": {
    "name": "ipython",
    "version": 3
   },
   "file_extension": ".py",
   "mimetype": "text/x-python",
   "name": "python",
   "nbconvert_exporter": "python",
   "pygments_lexer": "ipython3",
   "version": "3.12.3"
  }
 },
 "nbformat": 4,
 "nbformat_minor": 5
}
