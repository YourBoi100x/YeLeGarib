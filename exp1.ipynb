{
  "cells": [
    {
      "cell_type": "code",
      "execution_count": null,
      "metadata": {
        "colab": {
          "base_uri": "https://localhost:8080/",
          "height": 550
        },
        "id": "sScl7AloNnNL",
        "outputId": "65d35268-0a30-4c25-d0e1-77562a208c8a"
      },
      "outputs": [],
      "source": [
        "import pandas as pd\n",
        "import numpy as np\n",
        "import seaborn as sns\n",
        "\n",
        "data=pd.read_csv('/content/gun-violence-data_01-2013_03-2018.csv');\n",
        "data.head()\n",
        "\n"
      ]
    },
    {
      "cell_type": "code",
      "execution_count": null,
      "metadata": {
        "colab": {
          "base_uri": "https://localhost:8080/"
        },
        "id": "7KDwmwHIVFN-",
        "outputId": "16423b96-db00-4f5f-c255-f1fa794b566e"
      },
      "outputs": [],
      "source": [
        "data.shape"
      ]
    },
    {
      "cell_type": "code",
      "execution_count": null,
      "metadata": {
        "colab": {
          "base_uri": "https://localhost:8080/",
          "height": 446
        },
        "id": "uWeesIVsVL55",
        "outputId": "09bda7f8-f0dc-45c2-bccf-ead100e879b0"
      },
      "outputs": [],
      "source": [
        "data.tail()"
      ]
    },
    {
      "cell_type": "code",
      "execution_count": null,
      "metadata": {
        "colab": {
          "base_uri": "https://localhost:8080/",
          "height": 320
        },
        "id": "W_3b9D91VVBB",
        "outputId": "9d0ad861-0da2-413b-9909-b3b1f10b0160"
      },
      "outputs": [],
      "source": [
        "data.describe()"
      ]
    },
    {
      "cell_type": "code",
      "execution_count": null,
      "metadata": {
        "colab": {
          "base_uri": "https://localhost:8080/"
        },
        "id": "NN4DM_zkVZfS",
        "outputId": "891d7d55-0292-4730-e720-7f613c19aa5e"
      },
      "outputs": [],
      "source": [
        "data.columns"
      ]
    },
    {
      "cell_type": "code",
      "execution_count": null,
      "metadata": {
        "colab": {
          "base_uri": "https://localhost:8080/",
          "height": 993
        },
        "id": "uP3JWcB6Vira",
        "outputId": "6b544105-18c8-4fd9-d4d0-a98aa221667f"
      },
      "outputs": [],
      "source": [
        "data.nunique()"
      ]
    },
    {
      "cell_type": "code",
      "execution_count": null,
      "metadata": {
        "colab": {
          "base_uri": "https://localhost:8080/"
        },
        "id": "YDBXBuRHVnNq",
        "outputId": "c4669f0e-cf5c-41e9-d811-dcc2b66e9bdd"
      },
      "outputs": [],
      "source": [
        "data['state'].unique()"
      ]
    },
    {
      "cell_type": "code",
      "execution_count": null,
      "metadata": {
        "colab": {
          "base_uri": "https://localhost:8080/",
          "height": 993
        },
        "id": "Inl2Z_HJYU1V",
        "outputId": "c1ec192b-aee6-41de-920f-8137a7696dc4"
      },
      "outputs": [],
      "source": [
        "data.isnull().sum()"
      ]
    },
    {
      "cell_type": "code",
      "execution_count": 10,
      "metadata": {
        "id": "v2oYQBqCYWsk"
      },
      "outputs": [],
      "source": [
        "incident=data.drop(['latitude','longitude','notes','date','state','incident_url','city_or_county','address','source_url','incident_url_fields_missing','gun_stolen','gun_type','incident_characteristics','location_description','participant_age','participant_age_group','participant_gender','participant_name','participant_relationship','participant_status','participant_type','sources'],axis=1)"
      ]
    },
    {
      "cell_type": "code",
      "execution_count": null,
      "metadata": {
        "colab": {
          "base_uri": "https://localhost:8080/",
          "height": 206
        },
        "id": "dBtZRN3vYtUh",
        "outputId": "e06a4988-03a2-4421-f734-18247544aeb0"
      },
      "outputs": [],
      "source": [
        "incident.head()"
      ]
    },
    {
      "cell_type": "code",
      "execution_count": 12,
      "metadata": {
        "id": "NNVkLuACYyc4"
      },
      "outputs": [],
      "source": [
        "corelation = incident.corr()"
      ]
    },
    {
      "cell_type": "code",
      "execution_count": null,
      "metadata": {
        "colab": {
          "base_uri": "https://localhost:8080/",
          "height": 589
        },
        "id": "uZFmmtRSaLt-",
        "outputId": "80cf3c22-8a95-428d-f819-07e6554a9dae"
      },
      "outputs": [],
      "source": [
        "sns.heatmap(corelation,xticklabels=corelation.columns,yticklabels=corelation.columns,annot=True)"
      ]
    },
    {
      "cell_type": "code",
      "execution_count": null,
      "metadata": {
        "colab": {
          "base_uri": "https://localhost:8080/",
          "height": 1000
        },
        "id": "EUb8UkMnaP2x",
        "outputId": "1a116c65-97d4-4956-fdce-b864659e78e2"
      },
      "outputs": [],
      "source": [
        "sns.pairplot(incident)"
      ]
    },
    {
      "cell_type": "code",
      "execution_count": null,
      "metadata": {
        "colab": {
          "base_uri": "https://localhost:8080/",
          "height": 524
        },
        "id": "IZSOUF0DarRA",
        "outputId": "22317f0a-faad-44ed-b19b-24752872135c"
      },
      "outputs": [],
      "source": [
        "sns.relplot(x='n_killed', y='n_guns_involved', hue='state_senate_district',data=incident)"
      ]
    },
    {
      "cell_type": "code",
      "execution_count": null,
      "metadata": {
        "colab": {
          "base_uri": "https://localhost:8080/",
          "height": 470
        },
        "id": "x5wisspFbcwE",
        "outputId": "6d741a00-3ed1-4b90-e22c-000f2f6d590a"
      },
      "outputs": [],
      "source": [
        "sns.histplot(incident['n_killed'],bins=5)"
      ]
    },
    {
      "cell_type": "code",
      "execution_count": null,
      "metadata": {
        "colab": {
          "base_uri": "https://localhost:8080/",
          "height": 523
        },
        "id": "6YamBknCb8dA",
        "outputId": "e7592271-6a8a-48a1-9de7-8f574be56705"
      },
      "outputs": [],
      "source": [
        "sns.catplot(x='n_injured',kind='box',data=incident)"
      ]
    }
  ],
  "metadata": {
    "colab": {
      "provenance": []
    },
    "kernelspec": {
      "display_name": "Python 3",
      "name": "python3"
    },
    "language_info": {
      "name": "python"
    }
  },
  "nbformat": 4,
  "nbformat_minor": 0
}
